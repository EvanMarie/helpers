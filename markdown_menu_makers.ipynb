{
 "cells": [
  {
   "cell_type": "markdown",
   "metadata": {},
   "source": [
    "<center><span style = 'background-color: blue; padding: 25px 25px 20px 25px; line-height: 4; color:white;border-radius: 3px;'><font size = 6>Markdown Table of Contents & Navigation Menu </font></span><br>\n",
    "<span style = 'background-color: blue; padding: 25px 25px 20px 25px; line-height: 4; color:white;border-radius: 3px;'><font size = 6>Making Python do all the work!</font></span><br>\n",
    "\n",
    "<center><font size=5>~ Evan Marie Carr (<a href = https://www.EvanMarie.com>EvanMarie.com</a>)</font></center>"
   ]
  },
  {
   "cell_type": "code",
   "execution_count": 1,
   "metadata": {},
   "outputs": [],
   "source": [
    "# Allows print statements with variable background and font color and font size\n",
    "\n",
    "bgcolor = 'cyan'; text_color = 'purple';\n",
    "def div_print(text, width='auto',  bgcolor=bgcolor, text_color=text_color,\n",
    "              fontsize=2):\n",
    "    from IPython.display import HTML as html_print\n",
    "        \n",
    "    return display(html_print(\"<span style = 'display: block; width: {}; \\\n",
    "                                line-height: 2; background: {};\\\n",
    "                                margin-left: auto; margin-right: auto;\\\n",
    "                                border: 1px solid text_color;\\\n",
    "                                border-radius: 3px; text-align: center;\\\n",
    "                                padding: 3px 8px 3px 8px;'>\\\n",
    "                                <font size={}><text style=color:{}>{}\\\n",
    "                                </text></font></style>\".format(width, bgcolor, \n",
    "                                                                   fontsize,\n",
    "                                                                   text_color, text)))"
   ]
  },
  {
   "cell_type": "markdown",
   "metadata": {},
   "source": [
    "<span style = 'background-color: purple; padding: 10px; line-height: 3; color:white;border-radius: 3px;'><font size = 5>parse_links()</font></span> <font size = 4>creates 3 lists from the given list of topics to be included in the table of contents and navigation menu. These will be used by `table_of_contents()` and `link_menu()` to create the markdown code.</font></span>"
   ]
  },
  {
   "cell_type": "code",
   "execution_count": 2,
   "metadata": {
    "executionInfo": {
     "elapsed": 7,
     "status": "ok",
     "timestamp": 1672959789355,
     "user": {
      "displayName": "Evan Carr Homeschool",
      "userId": "06914599846009526611"
     },
     "user_tz": 300
    },
    "extensions": {
     "jupyter_dashboards": {
      "activeView": "grid_default",
      "views": {
       "grid_default": {
        "col": null,
        "height": 2,
        "hidden": true,
        "locked": true,
        "row": null,
        "width": 2
       }
      }
     }
    },
    "id": "ZcjzNCvYCifB",
    "tags": []
   },
   "outputs": [],
   "source": [
    "def parse_links(basic_list):\n",
    "\n",
    "\tlink_names = []\n",
    "\tlink_links = []\n",
    "\tlink_tags = []\n",
    "\n",
    "\tfor item in basic_list:\n",
    "\t\titem_parts = item.split()\n",
    "\t\tname = \"[\" + item.title() + \"]\"\n",
    "\t\tlink_names.append(name)\n",
    "\t\t\n",
    "\t\ttry:\n",
    "\t\t\titem_tag = \"<a name = '\" + item_parts[0] + \"_\" + item_parts[1] + \"'></a>\"\n",
    "\t\t\titem_link = \"(#\" + item_parts[0] + \"_\" + item_parts[1] + \")\"\n",
    "\t\texcept:\n",
    "\t\t\titem_tag = \"<a name = '\" + item_parts[0] + \"'></a>\"\n",
    "\t\t\titem_link = \"(#\" + item_parts[0] + \")\"\n",
    "\t\t\t\n",
    "\n",
    "\t\tlink_links.append(item_link.lower())\n",
    "\t\tlink_tags.append(item_tag.lower())\n",
    "\n",
    "\treturn link_names, link_links, link_tags"
   ]
  },
  {
   "cell_type": "markdown",
   "metadata": {},
   "source": [
    "<span style = 'background-color: purple; padding: 10px; line-height: 3; color:white;border-radius: 3px;'><font size = 5>table_of_contents()</font></span> <font size = 4>produces and prints all the markdown code need, which can be cut and pasted into a markdown cell for the table of contents. It prints  to make your table of contents. It also returns the list of corresponding tags to be embedded in the cells the links should jump to. <br> \n",
    "\n",
    "<font size = 4>This is where `parse_links()` comes in. `table_of_contents()` calls it on the two column lists and creates the bits of code that are then assembled into the long string of markdown code that becomes a table. I have currently created this function to make a table of contents with two columns that have their own \n",
    "</font></span>"
   ]
  },
  {
   "cell_type": "code",
   "execution_count": 20,
   "metadata": {
    "executionInfo": {
     "elapsed": 6,
     "status": "ok",
     "timestamp": 1672959789355,
     "user": {
      "displayName": "Evan Carr Homeschool",
      "userId": "06914599846009526611"
     },
     "user_tz": 300
    },
    "extensions": {
     "jupyter_dashboards": {
      "activeView": "grid_default",
      "views": {
       "grid_default": {
        "col": null,
        "height": 2,
        "hidden": true,
        "locked": true,
        "row": null,
        "width": 2
       }
      }
     }
    },
    "id": "LByQQ6CYFo02"
   },
   "outputs": [],
   "source": [
    "def table_of_contents(title='', head1 = None, head2=None, col1=[], col2=[]):\n",
    "\tfrom IPython.display import HTML\n",
    "\ttable_data = \"<center><font size=6> \" + title + \"</font></center>  \\n  \\n|<font size=4> \" + head1 +  \"|   |<font size=4> \" + head2 + \"</font>|   |  \\n|---|---|---|---|  \\n\"\n",
    "\n",
    "\tdivider = \"| | \"\n",
    "\t\n",
    "\tcol1_names, col1_links, col1_htmls = parse_links(col1)\n",
    "\tcol2_names, col2_links, col2_htmls = parse_links(col2)\n",
    "\t\n",
    "\thtml_list = col1_htmls + col2_htmls\n",
    "\t\n",
    "\tcount = 0\n",
    "\twhile count < max(len(col1), len(col2)):\n",
    "\t\ttable_data =  table_data + divider\n",
    "\t\ttry:\n",
    "\t\t\tdata1 = col1_names[count] + col1_links[count]\n",
    "\t\t\ttable_data = table_data + data1\n",
    "\t\texcept:\n",
    "\t\t\ttable_data = table_data\n",
    "\t\ttry:\n",
    "\t\t\tdata2 = col2_names[count] + col2_links[count]\n",
    "\t\t\ttable_data = table_data + divider + data2 + \"|  \\n\"\n",
    "\t\texcept:\n",
    "\t\t\ttable_data = table_data + divider + \"|  \\n\"\n",
    "\t\n",
    "\t\tcount +=1\n",
    "\ttable_data = \"---  \\n\" + table_data + \"  \\n---\"\n",
    "\tprint(\"\"); print(table_data)\n",
    "\tprint(\"\")\n",
    "\t\n",
    "\tlink_string = str(html_list)\n",
    "\tlink_string = link_string.replace(\"[\", \"\")\n",
    "\tlink_string = link_string.replace(\"]\", \"\")\n",
    "\tlink_string = link_string.replace(',', \" | \")\n",
    "\tlink_string = link_string.replace('\"', \"\")\n",
    "\t\n",
    "\treturn(link_string)"
   ]
  },
  {
   "cell_type": "markdown",
   "metadata": {},
   "source": [
    "<font size = 4><font color = \"blue\">Now when I call `table_of_contents()` and pass to it the title of my table of contents, the headings for the both columns, and the lists of topics to be included in each column, it will print the markdown code, which can be immediately pasted into a markdown cell, resulting in a nice table of contents. It also returns the tags that must be embedded in the cells the table of contents links to. And there you have it! A lovely table of contents!"
   ]
  },
  {
   "cell_type": "code",
   "execution_count": 24,
   "metadata": {
    "colab": {
     "base_uri": "https://localhost:8080/"
    },
    "executionInfo": {
     "elapsed": 6,
     "status": "ok",
     "timestamp": 1672959789355,
     "user": {
      "displayName": "Evan Carr Homeschool",
      "userId": "06914599846009526611"
     },
     "user_tz": 300
    },
    "extensions": {
     "jupyter_dashboards": {
      "activeView": "grid_default",
      "views": {
       "grid_default": {
        "col": null,
        "height": 2,
        "hidden": true,
        "locked": true,
        "row": null,
        "width": 2
       }
      }
     }
    },
    "id": "lgArNabA_crO",
    "outputId": "1c2d4c58-e46c-4c2a-bb31-06da50a68944"
   },
   "outputs": [
    {
     "name": "stdout",
     "output_type": "stream",
     "text": [
      "\n"
     ]
    },
    {
     "data": {
      "text/html": [
       "<span style = 'display: block; width: auto;                                 line-height: 2; background: cyan;                                margin-left: auto; margin-right: auto;                                border: 1px solid text_color;                                border-radius: 3px; text-align: center;                                padding: 3px 8px 3px 8px;'>                                <font size=4><text style=color:purple>↙ CUT AND PASTE THE MARKDOWN CODE BELOW INTO A MARKDOWN CELL ↙                                </text></font></style>"
      ],
      "text/plain": [
       "<IPython.core.display.HTML object>"
      ]
     },
     "metadata": {},
     "output_type": "display_data"
    },
    {
     "name": "stdout",
     "output_type": "stream",
     "text": [
      "\n",
      "---  \n",
      "<center><font size=6> Table of Contents</font></center>  \n",
      "  \n",
      "|<font size=4> Heading One|   |<font size=4> Heading Two</font>|   |  \n",
      "|---|---|---|---|  \n",
      "| | [Topic One](#topic_one)| | [Topic One](#topic_one)|  \n",
      "| | [Topic Two](#topic_two)| | [Topic Two](#topic_two)|  \n",
      "| | [Topic Three](#topic_three)| | [Topic Three](#topic_three)|  \n",
      "  \n",
      "---\n",
      "\n"
     ]
    }
   ],
   "source": [
    "print(\"\"); div_print(\"↙ CUT AND PASTE THE MARKDOWN CODE BELOW INTO A MARKDOWN CELL ↙\", fontsize=4)\n",
    "\t\n",
    "links_list = table_of_contents(title='Table of Contents', \n",
    "\t\t\t\t\t\t\t\t head1 = \"Heading One\", head2=\"Heading Two\",\n",
    "\t\t\t\t\t\t\t\t col1=['Topic One', 'Topic Two', 'Topic Three'], \n",
    "\t\t\t\t\t\t\t\t col2=['Topic One', 'Topic Two', 'Topic Three'])"
   ]
  },
  {
   "cell_type": "markdown",
   "metadata": {},
   "source": [
    "<center><font size = 5><font color = \"blue\">↘ This is the table of contents the code above creates ↘ </font>\n",
    "\t\n",
    "<br>\n",
    "\t"
   ]
  },
  {
   "cell_type": "markdown",
   "metadata": {
    "extensions": {
     "jupyter_dashboards": {
      "activeView": "grid_default",
      "views": {
       "grid_default": {
        "col": 0,
        "height": 8,
        "hidden": false,
        "locked": true,
        "row": 0,
        "width": 11
       }
      }
     }
    },
    "id": "pFafeb0XHEnV",
    "tags": []
   },
   "source": [
    "\n",
    "---  \n",
    "<center><font size=6> Table of Contents</font></center>  \n",
    "  \n",
    "|<font size=4> Heading One|   |<font size=4> Heading Two</font>|   |  \n",
    "|---|---|---|---|  \n",
    "| | [Topic One](#topic_one)| | [Topic One](#topic_one)|  \n",
    "| | [Topic Two](#topic_two)| | [Topic Two](#topic_two)|  \n",
    "| | [Topic Three](#topic_three)| | [Topic Three](#topic_three)|  \n",
    "  \n",
    "---\n",
    "\n"
   ]
  },
  {
   "cell_type": "code",
   "execution_count": 25,
   "metadata": {
    "colab": {
     "base_uri": "https://localhost:8080/",
     "height": 54
    },
    "executionInfo": {
     "elapsed": 5,
     "status": "ok",
     "timestamp": 1672959789355,
     "user": {
      "displayName": "Evan Carr Homeschool",
      "userId": "06914599846009526611"
     },
     "user_tz": 300
    },
    "extensions": {
     "jupyter_dashboards": {
      "activeView": "grid_default",
      "views": {
       "grid_default": {
        "col": null,
        "height": 2,
        "hidden": true,
        "locked": true,
        "row": null,
        "width": 2
       }
      }
     }
    },
    "id": "-Ca7FLJM_kdl",
    "outputId": "eec642fe-f1be-451d-ae46-e84161df146b"
   },
   "outputs": [
    {
     "name": "stdout",
     "output_type": "stream",
     "text": [
      "\n"
     ]
    },
    {
     "data": {
      "text/html": [
       "<span style = 'display: block; width: auto;                                 line-height: 2; background: cyan;                                margin-left: auto; margin-right: auto;                                border: 1px solid text_color;                                border-radius: 3px; text-align: center;                                padding: 3px 8px 3px 8px;'>                                <font size=4><text style=color:purple>The code below is returned by `table_of_contents()`. It contains all the tags to be embedded in their respective cells. Each corresponds to a link in the table of contents above.                                </text></font></style>"
      ],
      "text/plain": [
       "<IPython.core.display.HTML object>"
      ]
     },
     "metadata": {},
     "output_type": "display_data"
    },
    {
     "name": "stdout",
     "output_type": "stream",
     "text": [
      "<a name = 'topic_one'></a> |  <a name = 'topic_two'></a> |  <a name = 'topic_three'></a> |  <a name = 'topic_one'></a> |  <a name = 'topic_two'></a> |  <a name = 'topic_three'></a>\n",
      "\n"
     ]
    }
   ],
   "source": [
    "print(\"\"); div_print(\"The code below is returned by `table_of_contents()`. It contains all the tags to be embedded in their respective cells. Each corresponds to a link in the table of contents above.\", fontsize=4)\n",
    "print(links_list)\n",
    "print(\"\")"
   ]
  },
  {
   "cell_type": "markdown",
   "metadata": {
    "extensions": {
     "jupyter_dashboards": {
      "activeView": "grid_default",
      "views": {
       "grid_default": {
        "col": null,
        "height": 2,
        "hidden": true,
        "locked": true,
        "row": null,
        "width": 2
       }
      }
     }
    },
    "id": "R-_LA3z5_nva"
   },
   "source": [
    "---\n",
    "\n",
    "<span style = 'background-color: blue; padding: 15px 15px 5px 15px; line-height: 3; color:white;border-radius: 3px;'><font size = 6> Link Navigation Menu:</font></span><br>\n",
    "<font size = 4>`link_menu()` creates a navigation link menu"
   ]
  },
  {
   "cell_type": "code",
   "execution_count": 26,
   "metadata": {
    "executionInfo": {
     "elapsed": 144,
     "status": "ok",
     "timestamp": 1672960499860,
     "user": {
      "displayName": "Evan Carr Homeschool",
      "userId": "06914599846009526611"
     },
     "user_tz": 300
    },
    "extensions": {
     "jupyter_dashboards": {
      "activeView": "grid_default",
      "views": {
       "grid_default": {
        "col": null,
        "height": 2,
        "hidden": true,
        "locked": true,
        "row": null,
        "width": 2
       }
      }
     }
    },
    "id": "p4UCUWTtF4nG"
   },
   "outputs": [],
   "source": [
    "def link_menu(links_list, title=None, links_per_row=5):\n",
    "\tcount = len(links_list)\n",
    "\tcurrent = 0\n",
    "\n",
    "\tlink_names, link_links, link_tags = parse_links(links_list)\n",
    "\tlink_string = \"---  \\n<font size=5> \" + title + \"</font>  \\n\"\n",
    "\ttags_data = \"\"\n",
    "\t\n",
    "\tfor link_item in range(count):\n",
    "\t\tif current > count:\n",
    "\t\t\tbreak\n",
    "\t\tif (current + 1) % links_per_row == 0:\n",
    "\t\t\tlink_string = link_string + \" | \" + link_names[current] + link_links[current] + \" | \"\n",
    "\t\t\tlink_string = link_string + \"   \\n\" \n",
    "\t\telse:\n",
    "\t\t\tlink_string = link_string + \" | \" + link_names[current] + link_links[current]\n",
    "\n",
    "\t\ttags_data = tags_data + \" | \" + link_tags[current]\n",
    "\t\tcurrent += 1\n",
    "\n",
    "\tlink_string = link_string + \"  \\n---\"\n",
    "\tprint(link_string)\n",
    "\tprint(\"\")\n",
    "\treturn tags_data"
   ]
  },
  {
   "cell_type": "markdown",
   "metadata": {},
   "source": [
    "<font size = 4><font color = \"blue\">Pass to `link_menu()` the a list of topics for which it should create a navigation menu and corresponding tags for embedding."
   ]
  },
  {
   "cell_type": "code",
   "execution_count": 28,
   "metadata": {
    "colab": {
     "base_uri": "https://localhost:8080/"
    },
    "executionInfo": {
     "elapsed": 145,
     "status": "ok",
     "timestamp": 1672960528924,
     "user": {
      "displayName": "Evan Carr Homeschool",
      "userId": "06914599846009526611"
     },
     "user_tz": 300
    },
    "extensions": {
     "jupyter_dashboards": {
      "activeView": "grid_default",
      "views": {
       "grid_default": {
        "col": null,
        "height": 2,
        "hidden": true,
        "locked": true,
        "row": null,
        "width": 2
       }
      }
     }
    },
    "id": "z8cHXxN__ob7",
    "outputId": "85f56790-6bd4-421d-ab9f-804af66c473d"
   },
   "outputs": [
    {
     "name": "stdout",
     "output_type": "stream",
     "text": [
      "\n"
     ]
    },
    {
     "data": {
      "text/html": [
       "<span style = 'display: block; width: auto;                                 line-height: 2; background: cyan;                                margin-left: auto; margin-right: auto;                                border: 1px solid text_color;                                border-radius: 3px; text-align: center;                                padding: 3px 8px 3px 8px;'>                                <font size=4><text style=color:purple>Cut and paste all of the following code into a markdown cell for a happy little navigation menu.                                </text></font></style>"
      ],
      "text/plain": [
       "<IPython.core.display.HTML object>"
      ]
     },
     "metadata": {},
     "output_type": "display_data"
    },
    {
     "name": "stdout",
     "output_type": "stream",
     "text": [
      "---  \n",
      "<font size=5> Notebook Topics</font>  \n",
      " | [Topic One](#topic_one) | [Topic Two](#topic_two) | [Topic Three](#topic_three) | [Topic Four](#topic_four) | [Topic Five](#topic_five) | [Topic Six](#topic_six) |    \n",
      " | [Topic Seven](#topic_seven) | [Topic Eight](#topic_eight) | [Topic Nine](#topic_nine) | [Topic Ten](#topic_ten) | [Topic Eleven](#topic_eleven) | [Topic Twelve](#topic_twelve) |    \n",
      "  \n",
      "---\n",
      "\n"
     ]
    }
   ],
   "source": [
    "print(\"\"); div_print(\"Cut and paste all of the following code into a markdown cell for a happy little navigation menu.\", fontsize=4)\n",
    "\n",
    "tags = link_menu(['Topic One', 'Topic Two', 'Topic Three', 'Topic Four', 'Topic Five', \n",
    "\t\t\t      'Topic Six', 'Topic Seven','Topic Eight','Topic Nine','Topic Ten',\n",
    "\t\t\t      'Topic Eleven','Topic Twelve'], \n",
    "\t\t\t\t   title = \"Notebook Topics\", \n",
    "\t\t\t\t   links_per_row = 6)"
   ]
  },
  {
   "cell_type": "markdown",
   "metadata": {},
   "source": [
    "<center><font size = 5><font color = \"blue\"> ↙ This is the navigation menu the code above creates ↙ </font>"
   ]
  },
  {
   "cell_type": "markdown",
   "metadata": {
    "extensions": {
     "jupyter_dashboards": {
      "activeView": "grid_default",
      "views": {
       "grid_default": {
        "col": null,
        "height": 2,
        "hidden": true,
        "locked": true,
        "row": null,
        "width": 2
       }
      }
     }
    },
    "id": "w3_oKMfrLrce"
   },
   "source": [
    "---  \n",
    "<font size=5> Notebook Topics</font>  \n",
    " | [Topic One](#topic_one) | [Topic Two](#topic_two) | [Topic Three](#topic_three) | [Topic Four](#topic_four) | [Topic Five](#topic_five) | [Topic Six](#topic_six) |    \n",
    " | [Topic Seven](#topic_seven) | [Topic Eight](#topic_eight) | [Topic Nine](#topic_nine) | [Topic Ten](#topic_ten) | [Topic Eleven](#topic_eleven) | [Topic Twelve](#topic_twelve) |    \n",
    "  \n",
    "---\n",
    "\n"
   ]
  },
  {
   "cell_type": "code",
   "execution_count": 29,
   "metadata": {
    "colab": {
     "base_uri": "https://localhost:8080/",
     "height": 91
    },
    "executionInfo": {
     "elapsed": 3,
     "status": "ok",
     "timestamp": 1672960533444,
     "user": {
      "displayName": "Evan Carr Homeschool",
      "userId": "06914599846009526611"
     },
     "user_tz": 300
    },
    "extensions": {
     "jupyter_dashboards": {
      "activeView": "grid_default",
      "views": {
       "grid_default": {
        "col": null,
        "height": 2,
        "hidden": true,
        "locked": true,
        "row": null,
        "width": 2
       }
      }
     }
    },
    "id": "av2fKCPf_kba",
    "outputId": "68ecee72-ba2f-425d-c262-21a02da28eaa"
   },
   "outputs": [
    {
     "name": "stdout",
     "output_type": "stream",
     "text": [
      "\n"
     ]
    },
    {
     "data": {
      "text/html": [
       "<span style = 'display: block; width: auto;                                 line-height: 2; background: cyan;                                margin-left: auto; margin-right: auto;                                border: 1px solid text_color;                                border-radius: 3px; text-align: center;                                padding: 3px 8px 3px 8px;'>                                <font size=4><text style=color:purple>The code below contains all the tags returned by link_menu() to be embedded in their respective cells.                                </text></font></style>"
      ],
      "text/plain": [
       "<IPython.core.display.HTML object>"
      ]
     },
     "metadata": {},
     "output_type": "display_data"
    },
    {
     "data": {
      "text/plain": [
       "\" | <a name = 'topic_one'></a> | <a name = 'topic_two'></a> | <a name = 'topic_three'></a> | <a name = 'topic_four'></a> | <a name = 'topic_five'></a> | <a name = 'topic_six'></a> | <a name = 'topic_seven'></a> | <a name = 'topic_eight'></a> | <a name = 'topic_nine'></a> | <a name = 'topic_ten'></a> | <a name = 'topic_eleven'></a> | <a name = 'topic_twelve'></a>\""
      ]
     },
     "execution_count": 29,
     "metadata": {},
     "output_type": "execute_result"
    }
   ],
   "source": [
    "print(\"\"); div_print(\"The code below contains all the tags returned by link_menu() to be embedded in their respective cells.\", fontsize=4)\n",
    "tags"
   ]
  },
  {
   "cell_type": "code",
   "execution_count": null,
   "metadata": {},
   "outputs": [],
   "source": []
  }
 ],
 "metadata": {
  "colab": {
   "authorship_tag": "ABX9TyN2ghUHIYO/1bR4gO6DZCiD",
   "provenance": []
  },
  "extensions": {
   "jupyter_dashboards": {
    "activeView": "grid_default",
    "version": 1,
    "views": {
     "grid_default": {
      "cellMargin": 2,
      "defaultCellHeight": 40,
      "maxColumns": 12,
      "name": "grid",
      "type": "grid"
     }
    }
   }
  },
  "kernelspec": {
   "display_name": "Python 3 (ipykernel)",
   "language": "python",
   "name": "python3"
  },
  "language_info": {
   "codemirror_mode": {
    "name": "ipython",
    "version": 3
   },
   "file_extension": ".py",
   "mimetype": "text/x-python",
   "name": "python",
   "nbconvert_exporter": "python",
   "pygments_lexer": "ipython3",
   "version": "3.9.12"
  }
 },
 "nbformat": 4,
 "nbformat_minor": 4
}
